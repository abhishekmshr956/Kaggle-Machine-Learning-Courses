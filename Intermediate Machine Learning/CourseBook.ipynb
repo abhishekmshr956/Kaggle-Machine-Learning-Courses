{
 "cells": [
  {
   "cell_type": "code",
   "execution_count": 1,
   "metadata": {
    "collapsed": true
   },
   "outputs": [],
   "source": [
    "import pandas as pd\n",
    "from sklearn.model_selection import train_test_split"
   ]
  },
  {
   "cell_type": "markdown",
   "metadata": {},
   "source": [
    "### Read the train and test data and split training data into train, validation data"
   ]
  },
  {
   "cell_type": "code",
   "execution_count": 11,
   "metadata": {},
   "outputs": [],
   "source": [
    "#Data Path for .csv files which has data on iowa house price\n",
    "train_data_path = \"/Users/amishra/Documents/Machine Learning, AI/Courses/Kaggle-Machine-Learning-Courses/Data/home-data-for-ml-course/train.csv\"\n",
    "test_data_path = \"/Users/amishra/Documents/Machine Learning, AI/Courses/Kaggle-Machine-Learning-Courses/Data/home-data-for-ml-course/test.csv\"\n",
    "\n",
    "#Read the data\n",
    "X_full = pd.read_csv(train_data_path, index_col='Id')\n",
    "X_test_full = pd.read_csv(test_data_path, index_col = 'Id')\n",
    "\n",
    "#Obtain prediction target\n",
    "y = X_full.SalePrice\n",
    "\n",
    "#define feature list to be used\n",
    "features = ['LotArea', 'YearBuilt', '1stFlrSF', '2ndFlrSF', 'FullBath', 'BedroomAbvGr', 'TotRmsAbvGrd']\n",
    "\n",
    "#get subset of data with relevant features\n",
    "X = X_full[features].copy()\n",
    "X_test = X_test_full[features].copy()\n",
    "\n",
    "#split the training data into training and validation data\n",
    "X_train, X_valid, y_train, y_valid = train_test_split(X, y, train_size = 0.8, test_size = 0.2, random_state = 0)\n"
   ]
  },
  {
   "cell_type": "markdown",
   "metadata": {},
   "source": [
    "### Evaluate several models"
   ]
  },
  {
   "cell_type": "code",
   "execution_count": 18,
   "metadata": {},
   "outputs": [],
   "source": [
    "from sklearn.ensemble import RandomForestRegressor\n",
    "\n",
    "#Define the models\n",
    "model_1 = RandomForestRegressor(n_estimators = 50, random_state = 0)\n",
    "model_2 = RandomForestRegressor(n_estimators = 100, random_state = 0)\n",
    "model_3 = RandomForestRegressor(n_estimators = 100, criterion ='mae', random_state = 0)\n",
    "model_4 = RandomForestRegressor(n_estimators = 200, min_samples_split = 20, random_state = 0)\n",
    "model_5 = RandomForestRegressor(n_estimators = 100, max_depth = 7, random_state = 0)\n",
    "\n",
    "models = [model_1, model_2, model_3, model_4, model_5]"
   ]
  },
  {
   "cell_type": "code",
   "execution_count": 24,
   "metadata": {},
   "outputs": [
    {
     "name": "stdout",
     "output_type": "stream",
     "text": [
      "Model 1 MAE: 24015\n",
      "Model 2 MAE: 23740\n",
      "Model 3 MAE: 23734\n",
      "Model 4 MAE: 23996\n",
      "Model 5 MAE: 23706\n"
     ]
    }
   ],
   "source": [
    "#Calculate error for every model\n",
    "from sklearn.metrics import mean_absolute_error\n",
    "\n",
    "def get_score(model, X_t = X_train, X_v = X_valid, y_t = y_train, y_v = y_valid):\n",
    "    model.fit(X_t, y_t)\n",
    "    return(mean_absolute_error(y_v, model.predict(X_v)))\n",
    "\n",
    "i = 0\n",
    "for model in models:\n",
    "    score = get_score(model, X_train, X_valid, y_train, y_valid)\n",
    "    print(\"Model %d MAE: %d\"%(i+1, score))\n",
    "    i=i+1"
   ]
  },
  {
   "cell_type": "markdown",
   "metadata": {},
   "source": [
    "### Generate test predictions"
   ]
  },
  {
   "cell_type": "code",
   "execution_count": 27,
   "metadata": {
    "collapsed": true
   },
   "outputs": [],
   "source": [
    "my_model = RandomForestRegressor(n_estimators = 100, criterion ='mae', random_state = 0)\n",
    "my_model.fit(X, y)\n",
    "\n",
    "predictions = my_model.predict(X_test)\n",
    "\n",
    "#Save predictions in format used for test scoring\n",
    "output = pd.DataFrame({'Id' : X_test.index,\n",
    "                      'SalePrice': predictions})\n",
    "output.to_csv('submission.csv', index = False)"
   ]
  },
  {
   "cell_type": "code",
   "execution_count": null,
   "metadata": {
    "collapsed": true
   },
   "outputs": [],
   "source": []
  }
 ],
 "metadata": {
  "kernelspec": {
   "display_name": "Python 2",
   "language": "python",
   "name": "python2"
  },
  "language_info": {
   "codemirror_mode": {
    "name": "ipython",
    "version": 2
   },
   "file_extension": ".py",
   "mimetype": "text/x-python",
   "name": "python",
   "nbconvert_exporter": "python",
   "pygments_lexer": "ipython2",
   "version": "2.7.14"
  }
 },
 "nbformat": 4,
 "nbformat_minor": 2
}
